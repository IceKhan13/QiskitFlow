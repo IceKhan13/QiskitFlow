{
 "cells": [
  {
   "cell_type": "markdown",
   "metadata": {},
   "source": [
    "### Conduct exeriment"
   ]
  },
  {
   "cell_type": "code",
   "execution_count": 40,
   "metadata": {},
   "outputs": [],
   "source": [
    "import numpy as np\n",
    "import time\n",
    "from qiskit import QuantumCircuit, QuantumRegister, ClassicalRegister, execute, BasicAer, IBMQ\n",
    "from qiskit.visualization import plot_histogram, plot_bloch_multivector\n",
    "from qiskit.extensions import Initialize\n",
    "from qiskit_textbook.tools import random_state, array_to_latex\n",
    "\n",
    "from qiskitflow import Experiment\n",
    "\n",
    "with Experiment(\"quantum teleportation\") as experiment:\n",
    "    start_time = time.time()\n",
    "    \n",
    "    # conduct experiment as usual\n",
    "    psi = random_state(1)\n",
    "    init_gate = Initialize(psi)\n",
    "    init_gate.label = \"init\"\n",
    "    inverse_init_gate = init_gate.gates_to_uncompute()\n",
    "\n",
    "    qr = QuantumRegister(3, name=\"q\")   # Protocol uses 3 qubits\n",
    "    crz = ClassicalRegister(1, name=\"crz\") # and 2 classical registers\n",
    "    crx = ClassicalRegister(1, name=\"crx\")\n",
    "    qc = QuantumCircuit(qr, crz, crx)\n",
    "    qc.append(init_gate, [0])\n",
    "    qc.barrier()\n",
    "    create_bell_pair(qc, 1, 2)\n",
    "    qc.barrier()\n",
    "    alice_gates(qc, 0, 1)\n",
    "    measure_and_send(qc, 0, 1)\n",
    "    bob_gates(qc, 2, crz, crx)\n",
    "    qc.append(inverse_init_gate, [2])\n",
    "    cr_result = ClassicalRegister(1)\n",
    "    qc.add_register(cr_result)\n",
    "    qc.measure(2,2)\n",
    "    backend_name = \"qasm_simulator\"\n",
    "    backend = BasicAer.get_backend(backend_name)\n",
    "    counts = execute(qc, backend, shots=1024).result().get_counts()\n",
    "    \n",
    "    end_time = time.time()\n",
    "    \n",
    "    runtime = end_time - start_time\n",
    "    \n",
    "    # qiskitflow\n",
    "    # log parameters used\n",
    "    experiment.write_parameter(\"backend name\", backend_name)\n",
    "    # log metrics of experiment\n",
    "    experiment.write_metric(\"runtime\", runtime)\n",
    "    # log counts of experiment\n",
    "    experiment.write_counts(\"experiment counts\", counts)"
   ]
  },
  {
   "cell_type": "markdown",
   "metadata": {},
   "source": [
    "### Review results"
   ]
  },
  {
   "cell_type": "code",
   "execution_count": 41,
   "metadata": {},
   "outputs": [
    {
     "name": "stdout",
     "output_type": "stream",
     "text": [
      "\u001b[35m\n",
      "QiskitFlow. Reproducible quantum experiments.\n",
      "\u001b[0m\n",
      "\u001b[35mExperiments list\n",
      "\u001b[0m\n",
      "\u001b[37m+-----------------------+-------------+\n",
      "| Name                  |   # of runs |\n",
      "+=======================+=============+\n",
      "| quantum teleportation |           3 |\n",
      "+-----------------------+-------------+\u001b[0m\n"
     ]
    }
   ],
   "source": [
    "! qiskitflow experiments list"
   ]
  },
  {
   "cell_type": "code",
   "execution_count": 42,
   "metadata": {},
   "outputs": [
    {
     "name": "stdout",
     "output_type": "stream",
     "text": [
      "\u001b[35m\n",
      "QiskitFlow. Reproducible quantum experiments.\n",
      "\u001b[0m\n",
      "\u001b[35mExperiment [quantum teleportation] runs\n",
      "\u001b[0m\n",
      "\u001b[37m-- Displayed metrics: all\u001b[0m\n",
      "\u001b[37m-- Displayed parameters: all\u001b[0m\n",
      "\u001b[37m-- Displayed counts: all\u001b[0m\n",
      "\u001b[37m-- Order by metric: NA\u001b[0m\n",
      "\u001b[37m-- Order direction: asc\u001b[0m\n",
      "\u001b[37m\u001b[0m\n",
      "\u001b[37m+----------------------------------+-----------------------------+-----------------------------+-----------------------------------------------------------------------------+\n",
      "| Run ID                           | Parameters                  | Metrics                     | Counts                                                                      |\n",
      "+==================================+=============================+=============================+=============================================================================+\n",
      "| 3639ea831dee4bac8e55566517a06589 |                             |                             |                                                                             |\n",
      "+----------------------------------+-----------------------------+-----------------------------+-----------------------------------------------------------------------------+\n",
      "| 62ca4c0a0af34481a2abcfd74d8a1d64 | backend name:qasm_simulator | runtime:0.3579099178314209  | experiment counts: {'0 1 1': 233, '0 0 0': 283, '0 1 0': 271, '0 0 1': 237} |\n",
      "+----------------------------------+-----------------------------+-----------------------------+-----------------------------------------------------------------------------+\n",
      "| cb8d30ddcc7d47c98866a02c700f601c | backend name:qasm_simulator | runtime:0.37038493156433105 | experiment counts: {'0 0 1': 280, '0 1 1': 256, '0 1 0': 242, '0 0 0': 246} |\n",
      "+----------------------------------+-----------------------------+-----------------------------+-----------------------------------------------------------------------------+\u001b[0m\n"
     ]
    }
   ],
   "source": [
    "! qiskitflow experiments info \"quantum teleportation\""
   ]
  },
  {
   "cell_type": "code",
   "execution_count": null,
   "metadata": {},
   "outputs": [],
   "source": []
  },
  {
   "cell_type": "code",
   "execution_count": null,
   "metadata": {},
   "outputs": [],
   "source": []
  },
  {
   "cell_type": "code",
   "execution_count": null,
   "metadata": {},
   "outputs": [],
   "source": []
  },
  {
   "cell_type": "code",
   "execution_count": null,
   "metadata": {},
   "outputs": [],
   "source": []
  }
 ],
 "metadata": {
  "kernelspec": {
   "display_name": "Python 3",
   "language": "python",
   "name": "python3"
  },
  "language_info": {
   "codemirror_mode": {
    "name": "ipython",
    "version": 3
   },
   "file_extension": ".py",
   "mimetype": "text/x-python",
   "name": "python",
   "nbconvert_exporter": "python",
   "pygments_lexer": "ipython3",
   "version": "3.6.9"
  }
 },
 "nbformat": 4,
 "nbformat_minor": 4
}

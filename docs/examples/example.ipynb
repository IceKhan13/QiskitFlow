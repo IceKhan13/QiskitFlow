{
 "cells": [
  {
   "cell_type": "markdown",
   "metadata": {},
   "source": [
    "### Conduct exeriment"
   ]
  },
  {
   "cell_type": "code",
   "execution_count": null,
   "metadata": {},
   "outputs": [],
   "source": [
    "import numpy as np\n",
    "import time\n",
    "from qiskit import QuantumCircuit, QuantumRegister, ClassicalRegister, execute, BasicAer, IBMQ\n",
    "from qiskit.visualization import plot_histogram, plot_bloch_multivector\n",
    "from qiskit.extensions import Initialize\n",
    "from qiskit_textbook.tools import random_state, array_to_latex\n",
    "\n",
    "from qiskitflow import Experiment\n",
    "\n",
    "def create_bell_pair(qc, a, b):\n",
    "    \"\"\"Creates a bell pair in qc using qubits a & b\"\"\"\n",
    "    qc.h(a) # Put qubit a into state |+>\n",
    "    qc.cx(a,b) # CNOT with a as control and b as target\n",
    "\n",
    "    \n",
    "def alice_gates(qc, psi, a):\n",
    "    qc.cx(psi, a)\n",
    "    qc.h(psi)\n",
    "\n",
    "    \n",
    "def bob_gates(qc, qubit, crz, crx):\n",
    "    # Here we use c_if to control our gates with a classical\n",
    "    # bit instead of a qubit\n",
    "    qc.x(qubit).c_if(crx, 1) # Apply gates if the registers \n",
    "    qc.z(qubit).c_if(crz, 1) # are in the state '1'\n",
    "    \n",
    "    \n",
    "def measure_and_send(qc, a, b):\n",
    "    \"\"\"Measures qubits a & b and 'sends' the results to Bob\"\"\"\n",
    "    qc.barrier()\n",
    "    qc.measure(a,0)\n",
    "    qc.measure(b,1)\n",
    "\n",
    "\n",
    "\n",
    "with Experiment(\"quantum teleportation\") as experiment:\n",
    "    start_time = time.time()\n",
    "    \n",
    "    # conduct experiment as usual\n",
    "    psi = random_state(1)\n",
    "    init_gate = Initialize(psi)\n",
    "    init_gate.label = \"init\"\n",
    "    inverse_init_gate = init_gate.gates_to_uncompute()\n",
    "\n",
    "    qr = QuantumRegister(3, name=\"q\")   # Protocol uses 3 qubits\n",
    "    crz = ClassicalRegister(1, name=\"crz\") # and 2 classical registers\n",
    "    crx = ClassicalRegister(1, name=\"crx\")\n",
    "    qc = QuantumCircuit(qr, crz, crx)\n",
    "    qc.append(init_gate, [0])\n",
    "    qc.barrier()\n",
    "    create_bell_pair(qc, 1, 2)\n",
    "    qc.barrier()\n",
    "    alice_gates(qc, 0, 1)\n",
    "    measure_and_send(qc, 0, 1)\n",
    "    bob_gates(qc, 2, crz, crx)\n",
    "    qc.append(inverse_init_gate, [2])\n",
    "    cr_result = ClassicalRegister(1)\n",
    "    qc.add_register(cr_result)\n",
    "    qc.measure(2,2)\n",
    "    backend_name = \"qasm_simulator\"\n",
    "    backend = BasicAer.get_backend(backend_name)\n",
    "    counts = execute(qc, backend, shots=1024).result().get_counts()\n",
    "    \n",
    "    end_time = time.time()\n",
    "    \n",
    "    runtime = end_time - start_time\n",
    "    \n",
    "    # qiskitflow\n",
    "    # log parameters used\n",
    "    experiment.write_parameter(\"backend name\", backend_name)\n",
    "    # log metrics of experiment\n",
    "    experiment.write_metric(\"runtime\", runtime)\n",
    "    # log counts of experiment\n",
    "    experiment.write_counts(\"experiment counts\", counts)"
   ]
  },
  {
   "cell_type": "markdown",
   "metadata": {},
   "source": [
    "### Review results"
   ]
  },
  {
   "cell_type": "code",
   "execution_count": 2,
   "metadata": {},
   "outputs": [
    {
     "name": "stdout",
     "output_type": "stream",
     "text": [
      "\u001b[35m\n",
      "QiskitFlow. Reproducible quantum experiments.\n",
      "\u001b[0m\n",
      "\u001b[35mExperiment runs\n",
      "\u001b[0m\n",
      "\u001b[37m+---------------------+------------------------------------+----------------------------+-----------------------------+\n",
      "| Date                | Name                               | Metrics                    | Parameters                  |\n",
      "+=====================+====================================+============================+=============================+\n",
      "| 2021-03-06 20:51:33 | quantum teleportation              | runtime:0.3859751224517822 | backend name:qasm_simulator |\n",
      "|                     | (f530f0c61b9542b0b13a02dd9133abd5) |                            |                             |\n",
      "+---------------------+------------------------------------+----------------------------+-----------------------------+\u001b[0m\n"
     ]
    }
   ],
   "source": [
    "! qiskitflow runs"
   ]
  },
  {
   "cell_type": "code",
   "execution_count": 4,
   "metadata": {},
   "outputs": [
    {
     "name": "stdout",
     "output_type": "stream",
     "text": [
      "\u001b[35m\n",
      "QiskitFlow. Reproducible quantum experiments.\n",
      "\u001b[0m\n",
      "\u001b[35mRun [f530f0c61b9542b0b13a02dd9133abd5] detailed information.\n",
      "\u001b[0m\n",
      "\u001b[37m+------------+----------------------------------+\n",
      "|            | Values                           |\n",
      "+============+==================================+\n",
      "| Run ID     | f530f0c61b9542b0b13a02dd9133abd5 |\n",
      "+------------+----------------------------------+\n",
      "| Experiment | quantum teleportation            |\n",
      "+------------+----------------------------------+\n",
      "| Date       | 2021-03-06 20:51:33              |\n",
      "+------------+----------------------------------+\n",
      "| Parameters | backend name:qasm_simulator      |\n",
      "+------------+----------------------------------+\n",
      "| Metrics    | runtime:0.3859751224517822       |\n",
      "+------------+----------------------------------+\n",
      "| Counts     | experiment counts:               |\n",
      "|            | - 0 1 1 -> 258                   |\n",
      "|            | - 0 1 0 -> 236                   |\n",
      "|            | - 0 0 0 -> 272                   |\n",
      "|            | - 0 0 1 -> 258                   |\n",
      "+------------+----------------------------------+\u001b[0m\n"
     ]
    }
   ],
   "source": [
    "! qiskitflow run f530f0c61b9542b0b13a02dd9133abd5"
   ]
  },
  {
   "cell_type": "code",
   "execution_count": 5,
   "metadata": {},
   "outputs": [
    {
     "name": "stdout",
     "output_type": "stream",
     "text": [
      "\u001b[35m\n",
      "QiskitFlow. Reproducible quantum experiments.\n",
      "\u001b[0m\n",
      "\u001b[37mSharing run [f530f0c61b9542b0b13a02dd9133abd5]\u001b[0m\n",
      "\u001b[35mRun was successfully shared!\u001b[0m\n"
     ]
    }
   ],
   "source": [
    "! qiskitflow share f530f0c61b9542b0b13a02dd9133abd5 --user=admin --password=admin"
   ]
  },
  {
   "cell_type": "code",
   "execution_count": null,
   "metadata": {},
   "outputs": [],
   "source": []
  },
  {
   "cell_type": "code",
   "execution_count": null,
   "metadata": {},
   "outputs": [],
   "source": []
  },
  {
   "cell_type": "code",
   "execution_count": null,
   "metadata": {},
   "outputs": [],
   "source": []
  }
 ],
 "metadata": {
  "kernelspec": {
   "display_name": "Python 3",
   "language": "python",
   "name": "python3"
  },
  "language_info": {
   "codemirror_mode": {
    "name": "ipython",
    "version": 3
   },
   "file_extension": ".py",
   "mimetype": "text/x-python",
   "name": "python",
   "nbconvert_exporter": "python",
   "pygments_lexer": "ipython3",
   "version": "3.6.9"
  }
 },
 "nbformat": 4,
 "nbformat_minor": 4
}
